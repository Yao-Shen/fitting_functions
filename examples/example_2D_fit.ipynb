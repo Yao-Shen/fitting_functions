{
 "cells": [
  {
   "cell_type": "code",
   "execution_count": 1,
   "metadata": {},
   "outputs": [],
   "source": [
    "%matplotlib widget"
   ]
  },
  {
   "cell_type": "code",
   "execution_count": 2,
   "metadata": {},
   "outputs": [],
   "source": [
    "import numpy as np\n",
    "import matplotlib.pyplot as plt\n",
    "from fitting_functions.extra_lineshapes import lorentzianSq2D\n",
    "from fitting_functions.extra_models import lorentzianSq2D, LorentzianSq2DModel\n",
    "\n",
    "%matplotlib widget"
   ]
  },
  {
   "cell_type": "markdown",
   "metadata": {},
   "source": [
    "## Create data"
   ]
  },
  {
   "cell_type": "code",
   "execution_count": 3,
   "metadata": {},
   "outputs": [],
   "source": [
    "x = np.linspace(-3, 3, 200)\n",
    "y = np.linspace(-3.5, 3.5, 200)\n",
    "\n",
    "X, Y = np.meshgrid(x, y)\n",
    "\n",
    "I = 5*lorentzianSq2D(X, Y, centerx=-0.5, centery=0.5) + 0.1*np.random.rand(*X.shape)"
   ]
  },
  {
   "cell_type": "markdown",
   "metadata": {},
   "source": [
    "## Plot fake data"
   ]
  },
  {
   "cell_type": "code",
   "execution_count": 4,
   "metadata": {},
   "outputs": [
    {
     "data": {
      "application/vnd.jupyter.widget-view+json": {
       "model_id": "a48d5a4affef43c5b346a6268e25b218",
       "version_major": 2,
       "version_minor": 0
      },
      "text/plain": [
       "FigureCanvasNbAgg()"
      ]
     },
     "metadata": {},
     "output_type": "display_data"
    },
    {
     "data": {
      "text/plain": [
       "<matplotlib.colorbar.Colorbar at 0x1a22f49b38>"
      ]
     },
     "execution_count": 4,
     "metadata": {},
     "output_type": "execute_result"
    }
   ],
   "source": [
    "fig, ax = plt.subplots(num=0, clear=True)\n",
    "\n",
    "art = ax.pcolorfast(x, y, I)\n",
    "plt.colorbar(art, ax=ax)\n"
   ]
  },
  {
   "cell_type": "markdown",
   "metadata": {},
   "source": [
    "## Fit"
   ]
  },
  {
   "cell_type": "code",
   "execution_count": null,
   "metadata": {},
   "outputs": [],
   "source": []
  },
  {
   "cell_type": "code",
   "execution_count": 5,
   "metadata": {},
   "outputs": [
    {
     "name": "stdout",
     "output_type": "stream",
     "text": [
      "Independent variables are ['X', 'Y']\n",
      "\n",
      "[[Model]]\n",
      "    Model(lorentzianSq2D)\n",
      "[[Fit Statistics]]\n",
      "    # fitting method   = leastsq\n",
      "    # function evals   = 44\n",
      "    # data points      = 40000\n",
      "    # variables        = 5\n",
      "    chi-square         = 47.4887593\n",
      "    reduced chi-square = 0.00118737\n",
      "    Akaike info crit   = -269435.668\n",
      "    Bayesian info crit = -269392.685\n",
      "[[Variables]]\n",
      "    sigmay:     1.26403746 +/- 0.00208266 (0.16%) (init = 1)\n",
      "    sigmax:     1.23873283 +/- 0.00212736 (0.17%) (init = 1)\n",
      "    centery:    0.49333142 +/- 0.00146452 (0.30%) (init = 0)\n",
      "    centerx:   -0.49138295 +/- 0.00144678 (0.29%) (init = -1)\n",
      "    amplitude:  2.19917778 +/- 0.00153376 (0.07%) (init = 1)\n",
      "[[Correlations]] (unreported correlations are < 0.100)\n",
      "    C(sigmay, amplitude) = -0.701\n",
      "    C(sigmax, amplitude) = -0.701\n",
      "    C(sigmay, sigmax)    =  0.313\n",
      "\n"
     ]
    }
   ],
   "source": [
    "peak_model = LorentzianSq2DModel()\n",
    "\n",
    "# The independent variables are specified in the model\n",
    "print(\"Independent variables are {}\\n\".format(peak_model.independent_vars))\n",
    "# guessed values can be added as keywords here\n",
    "result = peak_model.fit(I, X=X, Y=Y, centerx=-1)\n",
    "\n",
    "# Compute optimized fit\n",
    "fit = lorentzianSq2D(X, Y, **result.best_values)\n",
    "\n",
    "print(result.fit_report())"
   ]
  },
  {
   "cell_type": "code",
   "execution_count": 6,
   "metadata": {},
   "outputs": [
    {
     "data": {
      "application/vnd.jupyter.widget-view+json": {
       "model_id": "1044fbfaa3764b62a3aca43fccc74643",
       "version_major": 2,
       "version_minor": 0
      },
      "text/plain": [
       "FigureCanvasNbAgg()"
      ]
     },
     "metadata": {},
     "output_type": "display_data"
    }
   ],
   "source": [
    "fig, axs = plt.subplots(2, 2, num=1, clear=True)\n",
    "\n",
    "arts = []\n",
    "for ax, M, title, vmin, vmax in zip(axs.ravel(), [I, fit, I-fit],\n",
    "                                    ['Data', 'Fit', 'Data-fit'],\n",
    "                                    [0, 0, -0.1],\n",
    "                                    [1, 1, 0.1]):\n",
    "    art = ax.pcolorfast(x, y, M, vmin=0, vmax=vmax)\n",
    "    cb = plt.colorbar(art, ax=ax)\n",
    "    ax.set_title(title)\n",
    "    ax.set_xlabel('x')\n",
    "    ax.set_ylabel('x')\n",
    "\n",
    "fig.subplots_adjust(hspace=0.4 ,wspace=0.4)\n",
    "axs[1,1].remove()\n"
   ]
  },
  {
   "cell_type": "code",
   "execution_count": null,
   "metadata": {},
   "outputs": [],
   "source": []
  }
 ],
 "metadata": {
  "kernelspec": {
   "display_name": "Python 3",
   "language": "python",
   "name": "python3"
  },
  "language_info": {
   "codemirror_mode": {
    "name": "ipython",
    "version": 3
   },
   "file_extension": ".py",
   "mimetype": "text/x-python",
   "name": "python",
   "nbconvert_exporter": "python",
   "pygments_lexer": "ipython3",
   "version": "3.7.2"
  }
 },
 "nbformat": 4,
 "nbformat_minor": 2
}
